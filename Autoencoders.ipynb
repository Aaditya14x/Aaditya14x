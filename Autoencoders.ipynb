{
  "cells": [
    {
      "cell_type": "markdown",
      "metadata": {
        "id": "view-in-github",
        "colab_type": "text"
      },
      "source": [
        "<a href=\"https://colab.research.google.com/github/Aaditya14x/Aaditya14x/blob/main/Autoencoders.ipynb\" target=\"_parent\"><img src=\"https://colab.research.google.com/assets/colab-badge.svg\" alt=\"Open In Colab\"/></a>"
      ]
    },
    {
      "cell_type": "code",
      "execution_count": 1,
      "metadata": {
        "id": "WQl8TSiHSOCU"
      },
      "outputs": [],
      "source": [
        "from keras.layers import Input, Dense\n",
        "from keras.models import Model\n",
        "\n",
        "# this is the size of our encoded representations\n",
        "encoding_dim = 128  # 32 floats -> compression of factor 24.5, assuming the input is 784 floats\n",
        "\n",
        "# this is our input placeholder\n",
        "input_img = Input(shape=(784,))\n",
        "# \"encoded\" is the encoded representation of the input\n",
        "encoded = Dense(encoding_dim, activation='relu')(input_img)\n",
        "# \"decoded\" is the lossy reconstruction of the input\n",
        "decoded = Dense(784, activation='sigmoid')(encoded)\n",
        "\n",
        "# this model maps an input to its reconstruction\n",
        "autoencoder = Model(input_img, decoded)"
      ]
    },
    {
      "cell_type": "code",
      "execution_count": 2,
      "metadata": {
        "id": "Gq173u9YSTvU"
      },
      "outputs": [],
      "source": [
        "# this model maps an input to its encoded representation\n",
        "encoder = Model(input_img, encoded)"
      ]
    },
    {
      "cell_type": "code",
      "execution_count": 3,
      "metadata": {
        "id": "q3K4BB0VSbfD"
      },
      "outputs": [],
      "source": [
        "# create a placeholder for an encoded (32-dimensional) input\n",
        "encoded_input = Input(shape=(encoding_dim,))\n",
        "# retrieve the last layer of the autoencoder model\n",
        "decoder_layer = autoencoder.layers[-1]\n",
        "# create the decoder model\n",
        "decoder = Model(encoded_input, decoder_layer(encoded_input))"
      ]
    },
    {
      "cell_type": "code",
      "execution_count": 4,
      "metadata": {
        "id": "txJYhPm1SfLq"
      },
      "outputs": [],
      "source": [
        "autoencoder.compile(optimizer='RMSprop', loss='binary_crossentropy')"
      ]
    },
    {
      "cell_type": "code",
      "execution_count": 5,
      "metadata": {
        "id": "ox4PzfObSiQd",
        "colab": {
          "base_uri": "https://localhost:8080/"
        },
        "outputId": "e0731dcc-e1fe-4407-dce6-dbf9f4795515"
      },
      "outputs": [
        {
          "output_type": "stream",
          "name": "stdout",
          "text": [
            "Downloading data from https://storage.googleapis.com/tensorflow/tf-keras-datasets/mnist.npz\n",
            "11490434/11490434 [==============================] - 1s 0us/step\n"
          ]
        }
      ],
      "source": [
        "from keras.datasets import mnist\n",
        "import numpy as np\n",
        "(x_train, _), (x_test, _) = mnist.load_data()"
      ]
    },
    {
      "cell_type": "code",
      "execution_count": 6,
      "metadata": {
        "colab": {
          "base_uri": "https://localhost:8080/"
        },
        "id": "5riYiwmoSlDz",
        "outputId": "2c0e0b24-17db-45ca-9e10-834988d6a988"
      },
      "outputs": [
        {
          "output_type": "stream",
          "name": "stdout",
          "text": [
            "(60000, 784)\n",
            "(10000, 784)\n"
          ]
        }
      ],
      "source": [
        "x_train = x_train.astype('float32') / 255.\n",
        "x_test = x_test.astype('float32') / 255.\n",
        "x_train = x_train.reshape((len(x_train), np.prod(x_train.shape[1:])))\n",
        "x_test = x_test.reshape((len(x_test), np.prod(x_test.shape[1:])))\n",
        "print (x_train.shape)\n",
        "print (x_test.shape)"
      ]
    },
    {
      "cell_type": "code",
      "execution_count": 7,
      "metadata": {
        "colab": {
          "base_uri": "https://localhost:8080/"
        },
        "id": "zzkP2dNISsfq",
        "outputId": "9610c7c3-b026-4822-cfb8-a90a7e5e3aa4"
      },
      "outputs": [
        {
          "output_type": "stream",
          "name": "stdout",
          "text": [
            "Epoch 1/50\n",
            "235/235 [==============================] - 13s 45ms/step - loss: 0.2771 - val_loss: 0.2089\n",
            "Epoch 2/50\n",
            "235/235 [==============================] - 7s 29ms/step - loss: 0.1886 - val_loss: 0.1707\n",
            "Epoch 3/50\n",
            "235/235 [==============================] - 8s 32ms/step - loss: 0.1611 - val_loss: 0.1499\n",
            "Epoch 4/50\n",
            "235/235 [==============================] - 6s 27ms/step - loss: 0.1442 - val_loss: 0.1363\n",
            "Epoch 5/50\n",
            "235/235 [==============================] - 4s 18ms/step - loss: 0.1323 - val_loss: 0.1258\n",
            "Epoch 6/50\n",
            "235/235 [==============================] - 4s 16ms/step - loss: 0.1230 - val_loss: 0.1175\n",
            "Epoch 7/50\n",
            "235/235 [==============================] - 3s 15ms/step - loss: 0.1154 - val_loss: 0.1106\n",
            "Epoch 8/50\n",
            "235/235 [==============================] - 3s 15ms/step - loss: 0.1091 - val_loss: 0.1049\n",
            "Epoch 9/50\n",
            "235/235 [==============================] - 5s 19ms/step - loss: 0.1040 - val_loss: 0.1004\n",
            "Epoch 10/50\n",
            "235/235 [==============================] - 3s 15ms/step - loss: 0.0999 - val_loss: 0.0968\n",
            "Epoch 11/50\n",
            "235/235 [==============================] - 3s 15ms/step - loss: 0.0966 - val_loss: 0.0939\n",
            "Epoch 12/50\n",
            "235/235 [==============================] - 5s 19ms/step - loss: 0.0940 - val_loss: 0.0916\n",
            "Epoch 13/50\n",
            "235/235 [==============================] - 3s 15ms/step - loss: 0.0918 - val_loss: 0.0896\n",
            "Epoch 14/50\n",
            "235/235 [==============================] - 3s 15ms/step - loss: 0.0900 - val_loss: 0.0880\n",
            "Epoch 15/50\n",
            "235/235 [==============================] - 4s 16ms/step - loss: 0.0885 - val_loss: 0.0866\n",
            "Epoch 16/50\n",
            "235/235 [==============================] - 4s 18ms/step - loss: 0.0871 - val_loss: 0.0854\n",
            "Epoch 17/50\n",
            "235/235 [==============================] - 3s 15ms/step - loss: 0.0860 - val_loss: 0.0844\n",
            "Epoch 18/50\n",
            "235/235 [==============================] - 3s 15ms/step - loss: 0.0850 - val_loss: 0.0835\n",
            "Epoch 19/50\n",
            "235/235 [==============================] - 4s 19ms/step - loss: 0.0841 - val_loss: 0.0826\n",
            "Epoch 20/50\n",
            "235/235 [==============================] - 3s 15ms/step - loss: 0.0833 - val_loss: 0.0819\n",
            "Epoch 21/50\n",
            "235/235 [==============================] - 3s 15ms/step - loss: 0.0825 - val_loss: 0.0812\n",
            "Epoch 22/50\n",
            "235/235 [==============================] - 4s 16ms/step - loss: 0.0818 - val_loss: 0.0806\n",
            "Epoch 23/50\n",
            "235/235 [==============================] - 4s 18ms/step - loss: 0.0812 - val_loss: 0.0800\n",
            "Epoch 24/50\n",
            "235/235 [==============================] - 4s 15ms/step - loss: 0.0807 - val_loss: 0.0795\n",
            "Epoch 25/50\n",
            "235/235 [==============================] - 4s 15ms/step - loss: 0.0801 - val_loss: 0.0790\n",
            "Epoch 26/50\n",
            "235/235 [==============================] - 5s 20ms/step - loss: 0.0796 - val_loss: 0.0785\n",
            "Epoch 27/50\n",
            "235/235 [==============================] - 3s 15ms/step - loss: 0.0792 - val_loss: 0.0781\n",
            "Epoch 28/50\n",
            "235/235 [==============================] - 4s 15ms/step - loss: 0.0788 - val_loss: 0.0777\n",
            "Epoch 29/50\n",
            "235/235 [==============================] - 6s 25ms/step - loss: 0.0784 - val_loss: 0.0774\n",
            "Epoch 30/50\n",
            "235/235 [==============================] - 4s 15ms/step - loss: 0.0780 - val_loss: 0.0770\n",
            "Epoch 31/50\n",
            "235/235 [==============================] - 3s 14ms/step - loss: 0.0776 - val_loss: 0.0767\n",
            "Epoch 32/50\n",
            "235/235 [==============================] - 5s 23ms/step - loss: 0.0773 - val_loss: 0.0763\n",
            "Epoch 33/50\n",
            "235/235 [==============================] - 3s 15ms/step - loss: 0.0770 - val_loss: 0.0761\n",
            "Epoch 34/50\n",
            "235/235 [==============================] - 3s 15ms/step - loss: 0.0767 - val_loss: 0.0758\n",
            "Epoch 35/50\n",
            "235/235 [==============================] - 4s 16ms/step - loss: 0.0764 - val_loss: 0.0755\n",
            "Epoch 36/50\n",
            "235/235 [==============================] - 4s 19ms/step - loss: 0.0761 - val_loss: 0.0753\n",
            "Epoch 37/50\n",
            "235/235 [==============================] - 3s 15ms/step - loss: 0.0759 - val_loss: 0.0750\n",
            "Epoch 38/50\n",
            "235/235 [==============================] - 3s 15ms/step - loss: 0.0756 - val_loss: 0.0748\n",
            "Epoch 39/50\n",
            "235/235 [==============================] - 5s 20ms/step - loss: 0.0754 - val_loss: 0.0746\n",
            "Epoch 40/50\n",
            "235/235 [==============================] - 4s 15ms/step - loss: 0.0752 - val_loss: 0.0744\n",
            "Epoch 41/50\n",
            "235/235 [==============================] - 3s 15ms/step - loss: 0.0750 - val_loss: 0.0742\n",
            "Epoch 42/50\n",
            "235/235 [==============================] - 4s 18ms/step - loss: 0.0748 - val_loss: 0.0740\n",
            "Epoch 43/50\n",
            "235/235 [==============================] - 4s 17ms/step - loss: 0.0746 - val_loss: 0.0738\n",
            "Epoch 44/50\n",
            "235/235 [==============================] - 4s 15ms/step - loss: 0.0744 - val_loss: 0.0736\n",
            "Epoch 45/50\n",
            "235/235 [==============================] - 4s 15ms/step - loss: 0.0742 - val_loss: 0.0735\n",
            "Epoch 46/50\n",
            "235/235 [==============================] - 5s 20ms/step - loss: 0.0740 - val_loss: 0.0733\n",
            "Epoch 47/50\n",
            "235/235 [==============================] - 3s 15ms/step - loss: 0.0739 - val_loss: 0.0731\n",
            "Epoch 48/50\n",
            "235/235 [==============================] - 3s 15ms/step - loss: 0.0737 - val_loss: 0.0730\n",
            "Epoch 49/50\n",
            "235/235 [==============================] - 5s 21ms/step - loss: 0.0735 - val_loss: 0.0729\n",
            "Epoch 50/50\n",
            "235/235 [==============================] - 4s 15ms/step - loss: 0.0734 - val_loss: 0.0727\n"
          ]
        },
        {
          "output_type": "execute_result",
          "data": {
            "text/plain": [
              "<keras.src.callbacks.History at 0x7c9e69b47790>"
            ]
          },
          "metadata": {},
          "execution_count": 7
        }
      ],
      "source": [
        "autoencoder.fit(x_train, x_train,\n",
        "                epochs=50,\n",
        "                batch_size=256,\n",
        "                shuffle=True,\n",
        "                validation_data=(x_test, x_test))"
      ]
    },
    {
      "cell_type": "code",
      "execution_count": 8,
      "metadata": {
        "colab": {
          "base_uri": "https://localhost:8080/"
        },
        "id": "OUr7fRVwSwHY",
        "outputId": "49a01f87-2fb1-4fc3-9b62-8a1e8be61e23"
      },
      "outputs": [
        {
          "output_type": "stream",
          "name": "stdout",
          "text": [
            "313/313 [==============================] - 1s 2ms/step\n",
            "313/313 [==============================] - 1s 2ms/step\n"
          ]
        }
      ],
      "source": [
        "# encode and decode some digits\n",
        "# note that we take them from the *test* set\n",
        "encoded_imgs = encoder.predict(x_test)\n",
        "decoded_imgs = decoder.predict(encoded_imgs)"
      ]
    },
    {
      "cell_type": "code",
      "execution_count": 9,
      "metadata": {
        "colab": {
          "base_uri": "https://localhost:8080/",
          "height": 191
        },
        "id": "HqkoJw8xSzH1",
        "outputId": "390a3cea-1329-44de-b71d-c0253ed3cf8a"
      },
      "outputs": [
        {
          "output_type": "display_data",
          "data": {
            "text/plain": [
              "<Figure size 2000x400 with 20 Axes>"
            ],
            "image/png": "[encoded data removed]"
          },
          "metadata": {}
        }
      ],
      "source": [
        "# use Matplotlib (don't ask)\n",
        "import matplotlib.pyplot as plt\n",
        "\n",
        "n = 10  # how many digits we will display\n",
        "plt.figure(figsize=(20, 4))\n",
        "for i in range(n):\n",
        "    # display original\n",
        "    ax = plt.subplot(2, n, i + 1)\n",
        "    plt.imshow(x_test[i].reshape(28, 28))\n",
        "    plt.gray()\n",
        "    ax.get_xaxis().set_visible(False)\n",
        "    ax.get_yaxis().set_visible(False)\n",
        "\n",
        "    # display reconstruction\n",
        "    ax = plt.subplot(2, n, i + 1 + n)\n",
        "    plt.imshow(decoded_imgs[i].reshape(28, 28))\n",
        "    plt.gray()\n",
        "    ax.get_xaxis().set_visible(False)\n",
        "    ax.get_yaxis().set_visible(False)\n",
        "plt.show()"
      ]
    },
    {
      "cell_type": "code",
      "execution_count": 10,
      "metadata": {
        "id": "ODd0yFC1bl7l"
      },
      "outputs": [],
      "source": [
        "from keras.layers import Input, Dense\n",
        "from keras.models import Model\n",
        "\n",
        "# Define the size of the encoded representation\n",
        "encoding_dim = 32  # 32 floats -> compression of factor 24.5, assuming the input is 784 floats\n",
        "\n",
        "# Input placeholder\n",
        "input_img = Input(shape=(784,))\n",
        "\n",
        "# Encoding layers\n",
        "encoded = Dense(128, activation='relu')(input_img)\n",
        "encoded = Dense(64, activation='relu')(encoded)\n",
        "encoded = Dense(encoding_dim, activation='relu')(encoded)\n",
        "\n",
        "# Decoding layers\n",
        "decoded = Dense(64, activation='relu')(encoded)\n",
        "decoded = Dense(128, activation='relu')(decoded)\n",
        "decoded = Dense(784, activation='sigmoid')(decoded)\n",
        "\n",
        "# Autoencoder model\n",
        "autoencoder = Model(input_img, decoded)\n",
        "\n",
        "# Encoder model\n",
        "encoder = Model(input_img, encoded)\n",
        "\n",
        "# Decoder model\n",
        "encoded_input = Input(shape=(encoding_dim,))\n",
        "decoder_layer1 = autoencoder.layers[-3]\n",
        "decoder_layer2 = autoencoder.layers[-2]\n",
        "decoder_layer3 = autoencoder.layers[-1]\n",
        "decoder = Model(encoded_input, decoder_layer3(decoder_layer2(decoder_layer1(encoded_input))))\n"
      ]
    },
    {
      "cell_type": "code",
      "execution_count": 11,
      "metadata": {
        "colab": {
          "base_uri": "https://localhost:8080/"
        },
        "id": "pedaPEaRcAic",
        "outputId": "1300d917-3c2b-461d-a8c0-6239ba1e6b97"
      },
      "outputs": [
        {
          "output_type": "stream",
          "name": "stdout",
          "text": [
            "Epoch 1/50\n",
            "235/235 [==============================] - 7s 23ms/step - loss: 0.2451 - val_loss: 0.1683\n",
            "Epoch 2/50\n",
            "235/235 [==============================] - 4s 17ms/step - loss: 0.1525 - val_loss: 0.1376\n",
            "Epoch 3/50\n",
            "235/235 [==============================] - 4s 17ms/step - loss: 0.1302 - val_loss: 0.1229\n",
            "Epoch 4/50\n",
            "235/235 [==============================] - 5s 22ms/step - loss: 0.1205 - val_loss: 0.1168\n",
            "Epoch 5/50\n",
            "235/235 [==============================] - 4s 17ms/step - loss: 0.1160 - val_loss: 0.1127\n",
            "Epoch 6/50\n",
            "235/235 [==============================] - 4s 16ms/step - loss: 0.1125 - val_loss: 0.1101\n",
            "Epoch 7/50\n",
            "235/235 [==============================] - 5s 22ms/step - loss: 0.1095 - val_loss: 0.1068\n",
            "Epoch 8/50\n",
            "235/235 [==============================] - 4s 16ms/step - loss: 0.1070 - val_loss: 0.1045\n",
            "Epoch 9/50\n",
            "235/235 [==============================] - 4s 17ms/step - loss: 0.1048 - val_loss: 0.1023\n",
            "Epoch 10/50\n",
            "235/235 [==============================] - 5s 22ms/step - loss: 0.1029 - val_loss: 0.1008\n",
            "Epoch 11/50\n",
            "235/235 [==============================] - 4s 17ms/step - loss: 0.1014 - val_loss: 0.0996\n",
            "Epoch 12/50\n",
            "235/235 [==============================] - 4s 16ms/step - loss: 0.1000 - val_loss: 0.0983\n",
            "Epoch 13/50\n",
            "235/235 [==============================] - 5s 21ms/step - loss: 0.0989 - val_loss: 0.0975\n",
            "Epoch 14/50\n",
            "235/235 [==============================] - 4s 16ms/step - loss: 0.0978 - val_loss: 0.0961\n",
            "Epoch 15/50\n",
            "235/235 [==============================] - 4s 17ms/step - loss: 0.0967 - val_loss: 0.0954\n",
            "Epoch 16/50\n",
            "235/235 [==============================] - 5s 23ms/step - loss: 0.0957 - val_loss: 0.0940\n",
            "Epoch 17/50\n",
            "235/235 [==============================] - 4s 17ms/step - loss: 0.0948 - val_loss: 0.0936\n",
            "Epoch 18/50\n",
            "235/235 [==============================] - 4s 16ms/step - loss: 0.0940 - val_loss: 0.0930\n",
            "Epoch 19/50\n",
            "235/235 [==============================] - 5s 22ms/step - loss: 0.0933 - val_loss: 0.0922\n",
            "Epoch 20/50\n",
            "235/235 [==============================] - 4s 16ms/step - loss: 0.0927 - val_loss: 0.0915\n",
            "Epoch 21/50\n",
            "235/235 [==============================] - 4s 16ms/step - loss: 0.0921 - val_loss: 0.0913\n",
            "Epoch 22/50\n",
            "235/235 [==============================] - 5s 21ms/step - loss: 0.0915 - val_loss: 0.0904\n",
            "Epoch 23/50\n",
            "235/235 [==============================] - 4s 16ms/step - loss: 0.0910 - val_loss: 0.0902\n",
            "Epoch 24/50\n",
            "235/235 [==============================] - 4s 16ms/step - loss: 0.0904 - val_loss: 0.0893\n",
            "Epoch 25/50\n",
            "235/235 [==============================] - 5s 21ms/step - loss: 0.0899 - val_loss: 0.0890\n",
            "Epoch 26/50\n",
            "235/235 [==============================] - 4s 17ms/step - loss: 0.0895 - val_loss: 0.0886\n",
            "Epoch 27/50\n",
            "235/235 [==============================] - 4s 16ms/step - loss: 0.0890 - val_loss: 0.0881\n",
            "Epoch 28/50\n",
            "235/235 [==============================] - 5s 20ms/step - loss: 0.0887 - val_loss: 0.0883\n",
            "Epoch 29/50\n",
            "235/235 [==============================] - 4s 18ms/step - loss: 0.0883 - val_loss: 0.0877\n",
            "Epoch 30/50\n",
            "235/235 [==============================] - 4s 16ms/step - loss: 0.0880 - val_loss: 0.0874\n",
            "Epoch 31/50\n",
            "235/235 [==============================] - 5s 20ms/step - loss: 0.0877 - val_loss: 0.0868\n",
            "Epoch 32/50\n",
            "235/235 [==============================] - 4s 18ms/step - loss: 0.0874 - val_loss: 0.0867\n",
            "Epoch 33/50\n",
            "235/235 [==============================] - 4s 16ms/step - loss: 0.0871 - val_loss: 0.0863\n",
            "Epoch 34/50\n",
            "235/235 [==============================] - 5s 19ms/step - loss: 0.0868 - val_loss: 0.0858\n",
            "Epoch 35/50\n",
            "235/235 [==============================] - 4s 19ms/step - loss: 0.0865 - val_loss: 0.0858\n",
            "Epoch 36/50\n",
            "235/235 [==============================] - 4s 17ms/step - loss: 0.0863 - val_loss: 0.0857\n",
            "Epoch 37/50\n",
            "235/235 [==============================] - 5s 20ms/step - loss: 0.0861 - val_loss: 0.0853\n",
            "Epoch 38/50\n",
            "235/235 [==============================] - 4s 19ms/step - loss: 0.0859 - val_loss: 0.0850\n",
            "Epoch 39/50\n",
            "235/235 [==============================] - 4s 17ms/step - loss: 0.0856 - val_loss: 0.0852\n",
            "Epoch 40/50\n",
            "235/235 [==============================] - 5s 20ms/step - loss: 0.0855 - val_loss: 0.0850\n",
            "Epoch 41/50\n",
            "235/235 [==============================] - 4s 18ms/step - loss: 0.0853 - val_loss: 0.0848\n",
            "Epoch 42/50\n",
            "235/235 [==============================] - 4s 16ms/step - loss: 0.0852 - val_loss: 0.0843\n",
            "Epoch 43/50\n",
            "235/235 [==============================] - 5s 19ms/step - loss: 0.0850 - val_loss: 0.0844\n",
            "Epoch 44/50\n",
            "235/235 [==============================] - 4s 19ms/step - loss: 0.0849 - val_loss: 0.0843\n",
            "Epoch 45/50\n",
            "235/235 [==============================] - 4s 17ms/step - loss: 0.0848 - val_loss: 0.0842\n",
            "Epoch 46/50\n",
            "235/235 [==============================] - 5s 19ms/step - loss: 0.0847 - val_loss: 0.0846\n",
            "Epoch 47/50\n",
            "235/235 [==============================] - 4s 18ms/step - loss: 0.0846 - val_loss: 0.0841\n",
            "Epoch 48/50\n",
            "235/235 [==============================] - 4s 16ms/step - loss: 0.0844 - val_loss: 0.0838\n",
            "Epoch 49/50\n",
            "235/235 [==============================] - 5s 19ms/step - loss: 0.0843 - val_loss: 0.0838\n",
            "Epoch 50/50\n",
            "235/235 [==============================] - 4s 19ms/step - loss: 0.0842 - val_loss: 0.0837\n"
          ]
        },
        {
          "output_type": "execute_result",
          "data": {
            "text/plain": [
              "<keras.src.callbacks.History at 0x7c9e632e8070>"
            ]
          },
          "metadata": {},
          "execution_count": 11
        }
      ],
      "source": [
        "# Compile the model\n",
        "autoencoder.compile(optimizer='adam', loss='binary_crossentropy')\n",
        "\n",
        "# Train the model\n",
        "autoencoder.fit(x_train, x_train,\n",
        "                epochs=50,\n",
        "                batch_size=256,\n",
        "                shuffle=True,\n",
        "                validation_data=(x_test, x_test))\n",
        "\n"
      ]
    },
    {
      "cell_type": "code",
      "execution_count": 12,
      "metadata": {
        "colab": {
          "base_uri": "https://localhost:8080/"
        },
        "id": "NKK5C_rlcNDl",
        "outputId": "468f0618-5498-456e-ecde-a117ba8c954e"
      },
      "outputs": [
        {
          "output_type": "stream",
          "name": "stdout",
          "text": [
            "313/313 [==============================] - 1s 2ms/step\n",
            "313/313 [==============================] - 1s 2ms/step\n"
          ]
        }
      ],
      "source": [
        "# encode and decode some digits\n",
        "# note that we take them from the *test* set\n",
        "encoded_imgs = encoder.predict(x_test)\n",
        "decoded_imgs = decoder.predict(encoded_imgs)"
      ]
    },
    {
      "cell_type": "code",
      "execution_count": 13,
      "metadata": {
        "colab": {
          "base_uri": "https://localhost:8080/",
          "height": 191
        },
        "id": "ZQA_n46BcI47",
        "outputId": "c0d237be-dfe0-4252-bded-4d3b8f84f4ca"
      },
      "outputs": [
        {
          "output_type": "display_data",
          "data": {
            "text/plain": [
              "<Figure size 2000x400 with 20 Axes>"
            ],
            "image/png": "[encoded data removed]"
          },
          "metadata": {}
        }
      ],
      "source": [
        "# use Matplotlib (don't ask)\n",
        "import matplotlib.pyplot as plt\n",
        "\n",
        "n = 10  # how many digits we will display\n",
        "plt.figure(figsize=(20, 4))\n",
        "for i in range(n):\n",
        "    # display original\n",
        "    ax = plt.subplot(2, n, i + 1)\n",
        "    plt.imshow(x_test[i].reshape(28, 28))\n",
        "    plt.gray()\n",
        "    ax.get_xaxis().set_visible(False)\n",
        "    ax.get_yaxis().set_visible(False)\n",
        "\n",
        "    # display reconstruction\n",
        "    ax = plt.subplot(2, n, i + 1 + n)\n",
        "    plt.imshow(decoded_imgs[i].reshape(28, 28))\n",
        "    plt.gray()\n",
        "    ax.get_xaxis().set_visible(False)\n",
        "    ax.get_yaxis().set_visible(False)\n",
        "plt.show()"
      ]
    }
  ],
  "metadata": {
    "colab": {
      "provenance": [],
      "include_colab_link": true
    },
    "kernelspec": {
      "display_name": "Python 3",
      "name": "python3"
    }
  },
  "nbformat": 4,
  "nbformat_minor": 0
}